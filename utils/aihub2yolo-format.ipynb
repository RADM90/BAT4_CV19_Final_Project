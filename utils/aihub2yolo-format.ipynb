{
 "cells": [
  {
   "cell_type": "code",
   "execution_count": 1,
   "id": "80a31ee5",
   "metadata": {},
   "outputs": [
    {
     "name": "stdout",
     "output_type": "stream",
     "text": [
      "Collecting xmltodict\n",
      "  Downloading xmltodict-0.13.0-py2.py3-none-any.whl (10.0 kB)\n",
      "Installing collected packages: xmltodict\n",
      "Successfully installed xmltodict-0.13.0\n"
     ]
    }
   ],
   "source": [
    "!pip install xmltodict"
   ]
  },
  {
   "cell_type": "code",
   "execution_count": 13,
   "id": "e74204c7",
   "metadata": {},
   "outputs": [],
   "source": [
    "import xmltodict\n",
    "import json\n",
    "import os\n",
    "import shutil"
   ]
  },
  {
   "cell_type": "code",
   "execution_count": 14,
   "id": "57f0a858",
   "metadata": {},
   "outputs": [],
   "source": [
    "#label_dict\n",
    "label = ['bicycle', 'bus', 'car', 'carrier', 'cat', 'dog', 'motorcycle', \n",
    "        'movable_signage', 'person', 'scooter', 'stroller', 'truck', 'wheelchair', \n",
    "        'barricade', 'bench', 'bollard', 'chair', 'fire_hydrant', 'kiosk', 'parking_meter', \n",
    "        'pole', 'potted_plant', 'power_controller', 'stop', 'table', 'traffic_light', \n",
    "        'traffic_light_controller', 'traffic_sign', 'tree_trunk']\n",
    "label_dict = { label_name: idx for idx, label_name in enumerate(label)}"
   ]
  },
  {
   "cell_type": "code",
   "execution_count": 15,
   "id": "b953818a",
   "metadata": {},
   "outputs": [],
   "source": [
    "src_dir = '/opt/ml'\n",
    "dst_dir = \"/opt/ml/yolov7/yolov7/data/val\"\n",
    "xml_list = []\n",
    "for i in range(5,6):\n",
    "    dir1 = os.path.join(src_dir,f\"Bbox_{i}_new\")\n",
    "    dir_list = os.listdir(dir1)\n",
    "    for dir2 in dir_list:\n",
    "        dir3 = os.path.join(dir1,dir2)\n",
    "        file_list = os.listdir(dir3)\n",
    "        for file_name in  file_list:\n",
    "            if \".xml\" in file_name:\n",
    "                xml_list.append(os.path.join(dir3,file_name))\n",
    "        "
   ]
  },
  {
   "cell_type": "code",
   "execution_count": 22,
   "id": "b00e4d8d",
   "metadata": {},
   "outputs": [],
   "source": [
    "for xml_path in xml_list:\n",
    "    with open(xml_path, 'rt', encoding=\"UTF-8\") as f:\n",
    "        doc = xmltodict.parse(f.read())\n",
    "    json_data = json.loads(json.dumps(doc))\n",
    "    for image in json_data['annotations']['image']:\n",
    "        # 파일 만들고\n",
    "        label_path = os.path.join(dst_dir,\"labels\")\n",
    "        file_name = image['@name'].split('.')[0]\n",
    "        image_w = int(image['@width'])\n",
    "        image_h = int(image['@height'])\n",
    "        f = open(os.path.join(label_path,file_name+\".txt\"), 'w',encoding='UTF-8')\n",
    "\n",
    "        if isinstance(image['box'], dict):\n",
    "            xl = float(box['@xtl'])\n",
    "            xr = float(box['@xbr'])\n",
    "            yt = float(box['@ytl'])\n",
    "            yb = float(box['@ybr'])\n",
    "            x_center = ((xl+xr)/2)\n",
    "            x_center = x_center/image_w\n",
    "            y_center = ((yt+yb)/2)\n",
    "            y_center = y_center/image_h\n",
    "            w = (xr-xl)/image_w\n",
    "            h = (yb-yt)/image_h\n",
    "            x_center = format(x_center, '.6f')\n",
    "            y_center = format(y_center, '.6f')\n",
    "            w = format(w, '.6f')\n",
    "            h = format(h, '.6f')\n",
    "            label = label_dict[box['@label']]\n",
    "            arr = list(map(str, [label, x_center, y_center, w, h]))\n",
    "            data = ' '.join(arr) + '\\n'\n",
    "            f.write(data)      \n",
    "        else:\n",
    "            for box in image['box']:\n",
    "                xl = float(box['@xtl'])\n",
    "                xr = float(box['@xbr'])\n",
    "                yt = float(box['@ytl'])\n",
    "                yb = float(box['@ybr'])\n",
    "                x_center = ((xl+xr)/2)\n",
    "                x_center = x_center/image_w\n",
    "                y_center = ((yt+yb)/2)\n",
    "                y_center = y_center/image_h\n",
    "                w = (xr-xl)/image_w\n",
    "                h = (yb-yt)/image_h\n",
    "                x_center = format(x_center, '.6f')\n",
    "                y_center = format(y_center, '.6f')\n",
    "                w = format(w, '.6f')\n",
    "                h = format(h, '.6f')\n",
    "                label = label_dict[box['@label']]\n",
    "                arr = list(map(str, [label, x_center, y_center, w, h]))\n",
    "                data = ' '.join(arr) + '\\n'\n",
    "                f.write(data)\n",
    "        f.close()"
   ]
  },
  {
   "cell_type": "code",
   "execution_count": 23,
   "id": "0227bb1e",
   "metadata": {},
   "outputs": [],
   "source": [
    "image_path = os.path.join(dst_dir,\"images\")\n",
    "for xml_path in xml_list:\n",
    "    path = '/'.join(xml_path.split('/')[:-1])\n",
    "    img_list = os.listdir(path)\n",
    "    for file_name in img_list:\n",
    "        if \".xml\" in file_name:\n",
    "            continue\n",
    "        src_path = os.path.join(path, file_name)\n",
    "        dst_path = os.path.join(image_path, file_name)\n",
    "        shutil.copy(src_path, dst_path)"
   ]
  },
  {
   "cell_type": "code",
   "execution_count": null,
   "id": "41a95ba2",
   "metadata": {},
   "outputs": [],
   "source": []
  }
 ],
 "metadata": {
  "kernelspec": {
   "display_name": "Python 3 (ipykernel)",
   "language": "python",
   "name": "python3"
  },
  "language_info": {
   "codemirror_mode": {
    "name": "ipython",
    "version": 3
   },
   "file_extension": ".py",
   "mimetype": "text/x-python",
   "name": "python",
   "nbconvert_exporter": "python",
   "pygments_lexer": "ipython3",
   "version": "3.8.5"
  }
 },
 "nbformat": 4,
 "nbformat_minor": 5
}
